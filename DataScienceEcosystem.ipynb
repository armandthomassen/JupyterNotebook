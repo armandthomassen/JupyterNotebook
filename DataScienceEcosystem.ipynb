{
 "cells": [
  {
   "cell_type": "markdown",
   "id": "c1b1ddf0-0e8e-428d-af35-734341a69794",
   "metadata": {},
   "source": [
    "# Data Science Tools and Ecosystem"
   ]
  },
  {
   "cell_type": "markdown",
   "id": "4eda187f-502e-45e1-99a8-dca4fd222bbe",
   "metadata": {},
   "source": [
    "In this notebook, Data Science Tools and Ecosystem are summarized."
   ]
  },
  {
   "cell_type": "markdown",
   "id": "cd8a0275-00d2-4071-b4b3-55a1bfc287d3",
   "metadata": {},
   "source": [
    "__Objectives:__"
   ]
  },
  {
   "cell_type": "markdown",
   "id": "43e90499-76a0-4724-b489-990258bc8699",
   "metadata": {},
   "source": [
    "* explain what is R\n",
    "* list R capabilities\n",
    "* describe RStudio environment\n",
    "* list the R libraries for data science"
   ]
  },
  {
   "cell_type": "markdown",
   "id": "81f56af8-3789-4773-8488-03ed72556e0a",
   "metadata": {},
   "source": [
    "Some of the popular languages that Data Scientists use are:"
   ]
  },
  {
   "cell_type": "markdown",
   "id": "5ab7c808-76fd-4861-8cf0-da2dcd7b3f59",
   "metadata": {},
   "source": [
    "1. Pytrhon\n",
    "2. R\n",
    "3. SQL"
   ]
  },
  {
   "cell_type": "markdown",
   "id": "75d65184-72ff-42e2-b49a-816a36e584eb",
   "metadata": {},
   "source": [
    "| Language | Comments |\n",
    "| ------------- | ----------- | \n",
    "| Python | Widely popular due to its simplicity and readability | \n",
    "| R | Known for statistical analysis and data visualization |\n",
    "| SQL | Essential for database management and manipulation. | "
   ]
  },
  {
   "cell_type": "markdown",
   "id": "de248bcf-3e62-4b72-8732-c8cc476b3822",
   "metadata": {},
   "source": [
    "Some of the commonly used libraries used by Data Scientists include:"
   ]
  },
  {
   "cell_type": "markdown",
   "id": "c13d8d1c-0eb0-4293-b94d-3f61eed23679",
   "metadata": {},
   "source": [
    "* Pandas\n",
    "* NumPy\n",
    "* Matplotlib and Seaborn\n",
    "* Scikit-Learn\n",
    "* TensorFlow and PyTorch"
   ]
  },
  {
   "cell_type": "markdown",
   "id": "be95a757-0d88-4f04-8c2b-89cad37ab1f4",
   "metadata": {},
   "source": [
    "| Data Science Tools |\n",
    "| -------------- | \n",
    "| Jupyter NNotebook | \n",
    "| Tableau | \n",
    "| Apache Spark | \n",
    "| R Studio | "
   ]
  },
  {
   "cell_type": "markdown",
   "id": "a1555402-20ba-42f7-b0d9-80127470e70b",
   "metadata": {},
   "source": [
    "### Below are a few examples of evaluating arithmetic expressions in Python."
   ]
  },
  {
   "cell_type": "code",
   "execution_count": 5,
   "id": "aaa7b4d1-be14-418d-8b26-d337a99febf5",
   "metadata": {},
   "outputs": [
    {
     "data": {
      "text/plain": [
       "17"
      ]
     },
     "execution_count": 5,
     "metadata": {},
     "output_type": "execute_result"
    }
   ],
   "source": [
    "# This a simple arithmetic expression to mutiply then add integers\n",
    "(3*4)+5"
   ]
  },
  {
   "cell_type": "code",
   "execution_count": 6,
   "id": "92cb179a-7824-40b0-aa78-ecd933197903",
   "metadata": {},
   "outputs": [
    {
     "data": {
      "text/plain": [
       "3.3333333333333335"
      ]
     },
     "execution_count": 6,
     "metadata": {},
     "output_type": "execute_result"
    }
   ],
   "source": [
    "#This will convert 200 minutes to hours by diving by 60\n",
    "200/60"
   ]
  },
  {
   "cell_type": "markdown",
   "id": "bcc41062-8227-4088-b883-56df1bfe72e2",
   "metadata": {},
   "source": [
    "## Author\n",
    "Armand Thomassen"
   ]
  },
  {
   "cell_type": "code",
   "execution_count": null,
   "id": "ac01ddf7-b039-4b4e-98b5-c82aa8dab1e9",
   "metadata": {},
   "outputs": [],
   "source": []
  }
 ],
 "metadata": {
  "kernelspec": {
   "display_name": "Python 3 (ipykernel)",
   "language": "python",
   "name": "python3"
  },
  "language_info": {
   "codemirror_mode": {
    "name": "ipython",
    "version": 3
   },
   "file_extension": ".py",
   "mimetype": "text/x-python",
   "name": "python",
   "nbconvert_exporter": "python",
   "pygments_lexer": "ipython3",
   "version": "3.11.9"
  }
 },
 "nbformat": 4,
 "nbformat_minor": 5
}
